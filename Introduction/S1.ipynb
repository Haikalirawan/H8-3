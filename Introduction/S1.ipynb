{
  "cells": [
    {
      "cell_type": "code",
      "execution_count": 1,
      "metadata": {
        "colab": {
          "base_uri": "https://localhost:8080/"
        },
        "id": "PidMXZmkTs7s",
        "outputId": "44d13bba-323b-4d21-a72f-74f4fbe46dfe"
      },
      "outputs": [
        {
          "name": "stdout",
          "output_type": "stream",
          "text": [
            "7\n",
            "1\n",
            "12\n",
            "1.3333333333333333\n",
            "1\n",
            "64\n"
          ]
        }
      ],
      "source": [
        "# Here are some examples of these operators in use:\n",
        "\n",
        "a = 4\n",
        "b = 3\n",
        "\n",
        "print(a + b)\n",
        "print(a - b)\n",
        "print(a * b)\n",
        "print(a / b)\n",
        "print(a % b)\n",
        "print(a ** b)"
      ]
    },
    {
      "cell_type": "code",
      "execution_count": 2,
      "metadata": {
        "colab": {
          "base_uri": "https://localhost:8080/"
        },
        "id": "MsZ2L-EZUNvV",
        "outputId": "132de5de-ae01-42de-fcf2-2d177c3a5caf"
      },
      "outputs": [
        {
          "name": "stdout",
          "output_type": "stream",
          "text": [
            "True\n",
            "False\n"
          ]
        }
      ],
      "source": [
        "# in Operators\n",
        "\n",
        "s = 'foo'\n",
        "\n",
        "print(s in 'That food for us')\n",
        "\n",
        "print(s in 'That good for us')"
      ]
    },
    {
      "cell_type": "code",
      "execution_count": 3,
      "metadata": {
        "colab": {
          "base_uri": "https://localhost:8080/"
        },
        "id": "zgYXjoiJUuiM",
        "outputId": "fd26d8c4-f32a-4677-daf9-d42806fde8f1"
      },
      "outputs": [
        {
          "name": "stdout",
          "output_type": "stream",
          "text": [
            "Hacktiv8 inalum\n",
            "hacktiv8 inalum\n",
            "hACKtiv8 InaLUM\n",
            "Hacktiv8 Inalum\n",
            "HACKTIV8 INALUM\n"
          ]
        }
      ],
      "source": [
        "# Case Conversion\n",
        "s = 'HackTIV8 iNAlum'\n",
        "\n",
        "# Capitalize\n",
        "print(s.capitalize())\n",
        "\n",
        "# Lower\n",
        "print(s.lower())\n",
        "\n",
        "# Swapcase\n",
        "print(s.swapcase())\n",
        "\n",
        "# Title\n",
        "print(s.title())\n",
        "\n",
        "# Uppercase\n",
        "print(s.upper())"
      ]
    },
    {
      "cell_type": "code",
      "execution_count": 4,
      "metadata": {
        "colab": {
          "base_uri": "https://localhost:8080/"
        },
        "id": "kQsXhgXNU4gD",
        "outputId": "50c10484-6bd5-4959-f54e-abe58c50916b"
      },
      "outputs": [
        {
          "name": "stdout",
          "output_type": "stream",
          "text": [
            "['bar', 'baz', 'qux']\n",
            "['foo', 1.1, 2.2, 3.3, 4.4, 5.5, 'quux', 'corge']\n"
          ]
        }
      ],
      "source": [
        "a = ['foo', 'bar', 'baz', 'qux', 'quux', 'corge']\n",
        "\n",
        "print(a[1:4])\n",
        "\n",
        "a[1:4] = [1.1, 2.2, 3.3, 4.4, 5.5]\n",
        "\n",
        "print(a)"
      ]
    },
    {
      "cell_type": "code",
      "execution_count": 5,
      "metadata": {
        "colab": {
          "base_uri": "https://localhost:8080/"
        },
        "id": "QPZ9rQAHVNPM",
        "outputId": "19b61cbf-7ba4-4661-d153-48a3cf588797"
      },
      "outputs": [
        {
          "name": "stdout",
          "output_type": "stream",
          "text": [
            "Twins\n",
            "Rockies\n"
          ]
        }
      ],
      "source": [
        "# Dictionary\n",
        "MLB_team = {\n",
        "    'Colorado': 'Rockies',\n",
        "    'Boston': 'Red Sox',\n",
        "    'Minnesota': 'Twins',\n",
        "    'Milwaukee': 'Brewers',\n",
        "    'Seattle': 'Mariners'\n",
        "}\n",
        "\n",
        "print(MLB_team['Minnesota'])\n",
        "print(MLB_team['Colorado'])\n"
      ]
    },
    {
      "cell_type": "code",
      "execution_count": null,
      "metadata": {
        "colab": {
          "base_uri": "https://localhost:8080/"
        },
        "id": "Sg5oXT1JVUcU",
        "outputId": "d0377f93-9a8e-431b-9b79-96c3f5d23369"
      },
      "outputs": [
        {
          "data": {
            "text/plain": [
              "{'Boston': 'Red Sox',\n",
              " 'Colorado': 'Rockies',\n",
              " 'Kansas City': 'Royals',\n",
              " 'Milwaukee': 'Brewers',\n",
              " 'Minnesota': 'Twins',\n",
              " 'Seattle': 'Mariners'}"
            ]
          },
          "execution_count": 6,
          "metadata": {},
          "output_type": "execute_result"
        }
      ],
      "source": [
        "#Adding an entry to an existing dictionary is simply a matter of assigning a new key and value:\n",
        "\n",
        "MLB_team['Kansas City'] = 'Royals'\n",
        "MLB_team"
      ]
    },
    {
      "cell_type": "code",
      "execution_count": null,
      "metadata": {
        "colab": {
          "base_uri": "https://localhost:8080/"
        },
        "id": "69OyOkkpVPo2",
        "outputId": "f1f4f28e-b730-492e-9a0f-524fb75747dc"
      },
      "outputs": [
        {
          "data": {
            "text/plain": [
              "{'Boston': 'Red Sox',\n",
              " 'Colorado': 'Rockies',\n",
              " 'Kansas City': 'Royals',\n",
              " 'Milwaukee': 'Brewers',\n",
              " 'Minnesota': 'Twins',\n",
              " 'Seattle': 'Seahawks'}"
            ]
          },
          "execution_count": 7,
          "metadata": {},
          "output_type": "execute_result"
        }
      ],
      "source": [
        "# If you want to update an entry, you can just assign a new value to an existing key:\n",
        "\n",
        "MLB_team['Seattle'] = 'Seahawks'\n",
        "MLB_team"
      ]
    },
    {
      "cell_type": "code",
      "execution_count": null,
      "metadata": {
        "colab": {
          "base_uri": "https://localhost:8080/"
        },
        "id": "5kNQm6t3VvXl",
        "outputId": "9c404969-e97b-457a-bf74-7b3068dbeffb"
      },
      "outputs": [
        {
          "data": {
            "text/plain": [
              "{'Boston': 'Red Sox',\n",
              " 'Colorado': 'Rockies',\n",
              " 'Kansas City': 'Royals',\n",
              " 'Milwaukee': 'Brewers',\n",
              " 'Minnesota': 'Twins'}"
            ]
          },
          "execution_count": 8,
          "metadata": {},
          "output_type": "execute_result"
        }
      ],
      "source": [
        "# To delete an entry, use the del statement, specifying the key to delete:\n",
        "\n",
        "del MLB_team['Seattle']\n",
        "MLB_team"
      ]
    },
    {
      "cell_type": "code",
      "execution_count": 6,
      "metadata": {
        "colab": {
          "base_uri": "https://localhost:8080/"
        },
        "id": "EnqeCnpyafXR",
        "outputId": "59f53300-5a26-432a-e651-7c502cdda1ac"
      },
      "outputs": [
        {
          "data": {
            "text/plain": [
              "{'fname': 'Hack',\n",
              " 'lname': 'Inalum',\n",
              " 'age': 51,\n",
              " 'spouse': 'Edna',\n",
              " 'children': ['Ralph', 'Betty', 'Joey'],\n",
              " 'pets': {'dog': 'Fido', 'cat': 'Sox'}}"
            ]
          },
          "execution_count": 6,
          "metadata": {},
          "output_type": "execute_result"
        }
      ],
      "source": [
        "# Dictionary Incrementally\n",
        "person = {}\n",
        "type(person)\n",
        "\n",
        "person['fname'] = 'Hack'\n",
        "person['lname'] = 'Inalum'\n",
        "person['age'] = 51\n",
        "person['spouse'] = 'Edna'\n",
        "person['children'] = ['Ralph', 'Betty', 'Joey']\n",
        "person['pets'] = {'dog': 'Fido', 'cat': 'Sox'}\n",
        "person"
      ]
    },
    {
      "cell_type": "code",
      "execution_count": null,
      "metadata": {
        "colab": {
          "base_uri": "https://localhost:8080/"
        },
        "id": "ew-5s7pOau3p",
        "outputId": "6aba30db-da89-4c19-c664-129b837902dd"
      },
      "outputs": [
        {
          "name": "stdout",
          "output_type": "stream",
          "text": [
            "Hack\n",
            "Inalum\n"
          ]
        }
      ],
      "source": [
        "print(person['fname'])\n",
        "print(person['lname'])"
      ]
    },
    {
      "cell_type": "code",
      "execution_count": null,
      "metadata": {
        "colab": {
          "base_uri": "https://localhost:8080/"
        },
        "id": "u9MWQScBa0UB",
        "outputId": "53272e3e-9e0f-4429-de0b-5b8f8db0524f"
      },
      "outputs": [
        {
          "name": "stdout",
          "output_type": "stream",
          "text": [
            "['Ralph', 'Betty', 'Joey']\n",
            "Betty\n"
          ]
        }
      ],
      "source": [
        "print(person['children'])\n",
        "print(person['children'][1])"
      ]
    },
    {
      "cell_type": "code",
      "execution_count": null,
      "metadata": {
        "colab": {
          "base_uri": "https://localhost:8080/"
        },
        "id": "dArxJeNTa4th",
        "outputId": "b17823b8-8893-413b-d3b5-c0f292c720c9"
      },
      "outputs": [
        {
          "name": "stdout",
          "output_type": "stream",
          "text": [
            "{'dog': 'Fido', 'cat': 'Sox'}\n",
            "Sox\n"
          ]
        }
      ],
      "source": [
        "print(person['pets'])\n",
        "print(person['pets']['cat'])"
      ]
    },
    {
      "cell_type": "code",
      "execution_count": null,
      "metadata": {
        "colab": {
          "base_uri": "https://localhost:8080/"
        },
        "id": "IVARJe0Aa8BT",
        "outputId": "1d339d51-6979-486d-927e-9424211f13ca"
      },
      "outputs": [
        {
          "name": "stdout",
          "output_type": "stream",
          "text": [
            "dict_items([('a', 10), ('b', 20), ('c', 30)])\n",
            "dict_keys(['a', 'b', 'c'])\n",
            "dict_values([10, 20, 30])\n"
          ]
        }
      ],
      "source": [
        "# Built-in Methods\n",
        "d = {'a': 10, 'b': 20, 'c': 30}\n",
        "\n",
        "# items\n",
        "print(d.items())\n",
        "\n",
        "# keys\n",
        "print(d.keys())\n",
        "\n",
        "# values\n",
        "print(d.values())"
      ]
    },
    {
      "cell_type": "code",
      "execution_count": null,
      "metadata": {
        "colab": {
          "base_uri": "https://localhost:8080/"
        },
        "id": "YqtTBOrabQ1Z",
        "outputId": "7255b07f-c0b6-4e87-d468-50ff160f53ac"
      },
      "outputs": [
        {
          "data": {
            "text/plain": [
              "True"
            ]
          },
          "execution_count": 14,
          "metadata": {},
          "output_type": "execute_result"
        }
      ],
      "source": [
        "#Line Continuation\n",
        "person1_age = 42\n",
        "person2_age = 16\n",
        "person3_age = 71\n",
        "\n",
        "someone_is_of_working_age = (\n",
        "    (person1_age >= 18 and person1_age <= 65)\n",
        "    or (person2_age >= 18 and person2_age <= 65)\n",
        "    or (person3_age >= 18 and person3_age <= 65)\n",
        ")\n",
        "\n",
        "someone_is_of_working_age"
      ]
    }
  ],
  "metadata": {
    "colab": {
      "collapsed_sections": [],
      "name": "S1",
      "provenance": []
    },
    "kernelspec": {
      "display_name": "Python 3.9.4 64-bit",
      "language": "python",
      "name": "python3"
    },
    "language_info": {
      "codemirror_mode": {
        "name": "ipython",
        "version": 3
      },
      "file_extension": ".py",
      "mimetype": "text/x-python",
      "name": "python",
      "nbconvert_exporter": "python",
      "pygments_lexer": "ipython3",
      "version": "3.9.4"
    },
    "vscode": {
      "interpreter": {
        "hash": "52634da84371cba311ea128a5ea7cdc41ff074b781779e754b270ff9f8153cee"
      }
    }
  },
  "nbformat": 4,
  "nbformat_minor": 0
}
