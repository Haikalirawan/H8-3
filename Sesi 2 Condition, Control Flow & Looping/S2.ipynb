{
 "cells": [
  {
   "cell_type": "markdown",
   "id": "031574cc",
   "metadata": {},
   "source": [
    "### Percabangan"
   ]
  },
  {
   "cell_type": "code",
   "execution_count": 7,
   "id": "c74f395d",
   "metadata": {},
   "outputs": [
    {
     "name": "stdout",
     "output_type": "stream",
     "text": [
      "kondisi diatas benar!\n"
     ]
    }
   ],
   "source": [
    "if \"aul\" in \"grault\":\n",
    "    print(\"kondisi diatas benar!\")"
   ]
  },
  {
   "cell_type": "code",
   "execution_count": 6,
   "id": "10bb930f",
   "metadata": {},
   "outputs": [
    {
     "name": "stdout",
     "output_type": "stream",
     "text": [
      "Kondisi diatas salah!\n",
      "Kondisi diatas benar!\n"
     ]
    }
   ],
   "source": [
    "# Tidak sama dengan array didalam array\n",
    "if 'foo' in ['fool', 'fellas', 'genta']:\n",
    "    print(\"Kondisi diatas benar!\")\n",
    "else :\n",
    "    print(\"Kondisi diatas salah!\")\n",
    "\n",
    "# Harus benar-benar match didalam array\n",
    "if 'foo' in ['foo', 'fellas', 'genta']:\n",
    "    print(\"Kondisi diatas benar!\")\n",
    "else :\n",
    "    print(\"Kondisi diatas salah!\")"
   ]
  },
  {
   "cell_type": "code",
   "execution_count": 13,
   "id": "062fa3ba",
   "metadata": {},
   "outputs": [
    {
     "name": "stdout",
     "output_type": "stream",
     "text": [
      "Duit-nya pas nih, bakal ada pajak juga loh\n"
     ]
    }
   ],
   "source": [
    "harga_buku = 25000\n",
    "uang = 25000\n",
    "\n",
    "if uang > harga_buku :\n",
    "    print('Beli buku baru nih!')\n",
    "elif uang < harga_buku :\n",
    "    print('Duit-nya abis, ga bisa beli')\n",
    "else :\n",
    "    print('Duit-nya pas nih, bakal ada pajak juga loh')"
   ]
  },
  {
   "cell_type": "code",
   "execution_count": 22,
   "id": "3d4949c5",
   "metadata": {},
   "outputs": [
    {
     "name": "stdout",
     "output_type": "stream",
     "text": [
      "no\n"
     ]
    }
   ],
   "source": [
    "# one-line percabangan\n",
    "a,b = 10,10\n",
    "print('yes' if a < b else 'no')"
   ]
  },
  {
   "cell_type": "code",
   "execution_count": 23,
   "id": "f69dbb7d",
   "metadata": {},
   "outputs": [
    {
     "name": "stdout",
     "output_type": "stream",
     "text": [
      "Let's go to the beach\n"
     ]
    }
   ],
   "source": [
    "# one-line percabangan\n",
    "raining = False\n",
    "print('Let\\'s go to the', 'beach' if not raining else 'library')"
   ]
  },
  {
   "cell_type": "code",
   "execution_count": 41,
   "id": "f2d98fac",
   "metadata": {},
   "outputs": [
    {
     "name": "stdout",
     "output_type": "stream",
     "text": [
      "Grandmother\n"
     ]
    }
   ],
   "source": [
    "# Percabangan bersarang\n",
    "umur = 68\n",
    "gender = 'P'\n",
    "\n",
    "if umur < 18 :\n",
    "    if gender == 'M' :\n",
    "        print('Son')\n",
    "    else :\n",
    "        print('Daughter')\n",
    "elif umur >= 18 and umur < 65 :\n",
    "    if gender == 'M' :\n",
    "        print('Father')\n",
    "    else :\n",
    "        print('Mother')\n",
    "else :\n",
    "    if gender == 'M' :\n",
    "        print('Grandfather')\n",
    "    else :\n",
    "        print('Grandmother')"
   ]
  },
  {
   "cell_type": "markdown",
   "id": "10d27df9",
   "metadata": {},
   "source": [
    "### Perulangan"
   ]
  },
  {
   "cell_type": "code",
   "execution_count": 61,
   "id": "b0ccacbe",
   "metadata": {},
   "outputs": [
    {
     "name": "stdout",
     "output_type": "stream",
     "text": [
      "10\n",
      "9\n",
      "8\n",
      "7\n",
      "6\n",
      "5\n",
      "4\n",
      "3\n",
      "2\n",
      "1\n"
     ]
    }
   ],
   "source": [
    "n = 11\n",
    "while n > 1 : n-=1; print(n)"
   ]
  },
  {
   "cell_type": "code",
   "execution_count": 64,
   "id": "7070916f",
   "metadata": {},
   "outputs": [
    {
     "name": "stdout",
     "output_type": "stream",
     "text": [
      "10\n",
      "9\n",
      "8\n",
      "7\n",
      "6\n",
      "5\n",
      "4\n",
      "3\n",
      "2\n",
      "1\n",
      "loop selesai\n"
     ]
    }
   ],
   "source": [
    "n = 11\n",
    "while n > 1 :\n",
    "    n -=1\n",
    "    print(n)\n",
    "else :\n",
    "    print('loop selesai')"
   ]
  },
  {
   "cell_type": "code",
   "execution_count": 43,
   "id": "6208e0f2",
   "metadata": {},
   "outputs": [
    {
     "name": "stdout",
     "output_type": "stream",
     "text": [
      "foo\n",
      "> baz\n",
      "> qux\n",
      "bar\n",
      "> baz\n",
      "> qux\n"
     ]
    }
   ],
   "source": [
    "# Perulangan bersarang \n",
    "a = ['foo', 'bar']\n",
    "\n",
    "while len(a) :\n",
    "    print (a.pop(0))\n",
    "    \n",
    "    b = ['baz', 'qux']\n",
    "    \n",
    "    while len(b):\n",
    "        print('>',b.pop(0))"
   ]
  },
  {
   "cell_type": "markdown",
   "id": "03db2f37",
   "metadata": {},
   "source": [
    "### Dictionary"
   ]
  },
  {
   "cell_type": "code",
   "execution_count": 60,
   "id": "758d5ef9",
   "metadata": {},
   "outputs": [
    {
     "name": "stdout",
     "output_type": "stream",
     "text": [
      "Key :\n",
      "nama\n",
      "warna\n",
      "speed\n",
      "========================================\n",
      "Values :\n",
      "Nissan-X\n",
      "Merah\n",
      "200\n"
     ]
    }
   ],
   "source": [
    "data = {'nama': 'Nissan-X', 'warna': 'Merah', 'speed': 200}\n",
    "\n",
    "# Print key\n",
    "print('Key :')\n",
    "for dt in data :\n",
    "    print(dt)\n",
    "\n",
    "print('='*40)\n",
    "    \n",
    "# Print values\n",
    "print('Values :')\n",
    "for dt in data :\n",
    "    print(data[dt])"
   ]
  },
  {
   "cell_type": "code",
   "execution_count": 82,
   "id": "6b90de4d",
   "metadata": {},
   "outputs": [
    {
     "name": "stdout",
     "output_type": "stream",
     "text": [
      "Key :\n",
      "nama\n",
      "warna\n",
      "speed\n",
      "--------------------------------------------------\n",
      "Values :\n",
      "Nissan-X\n",
      "Merah\n",
      "200\n",
      "--------------------------------------------------\n",
      "Items :\n",
      "('nama', 'Nissan-X')\n",
      "Cara akses : \n",
      "> nama\n",
      "> Nissan-X\n",
      "==========\n",
      "('warna', 'Merah')\n",
      "Cara akses : \n",
      "> warna\n",
      "> Merah\n",
      "==========\n",
      "('speed', 200)\n",
      "Cara akses : \n",
      "> speed\n",
      "> 200\n",
      "==========\n"
     ]
    }
   ],
   "source": [
    "data = {'nama': 'Nissan-X', 'warna': 'Merah', 'speed': 200}\n",
    "\n",
    "print('Key :')\n",
    "for dt in data.keys() :\n",
    "    print(dt)\n",
    "    \n",
    "print('-'*50)\n",
    "\n",
    "print('Values :')\n",
    "for dt in data.values() :\n",
    "    print(dt)\n",
    "    \n",
    "print('-'*50)\n",
    "\n",
    "print('Items :')\n",
    "for dt in data.items() :\n",
    "    print(dt)\n",
    "    print('Cara akses : ')\n",
    "    print('>', dt[0])\n",
    "    print('>', dt[1])\n",
    "    print('='*10)"
   ]
  },
  {
   "cell_type": "code",
   "execution_count": null,
   "id": "97f05f87",
   "metadata": {},
   "outputs": [],
   "source": []
  }
 ],
 "metadata": {
  "kernelspec": {
   "display_name": "Python 3 (ipykernel)",
   "language": "python",
   "name": "python3"
  },
  "language_info": {
   "codemirror_mode": {
    "name": "ipython",
    "version": 3
   },
   "file_extension": ".py",
   "mimetype": "text/x-python",
   "name": "python",
   "nbconvert_exporter": "python",
   "pygments_lexer": "ipython3",
   "version": "3.9.4"
  },
  "toc": {
   "base_numbering": 1,
   "nav_menu": {},
   "number_sections": true,
   "sideBar": true,
   "skip_h1_title": false,
   "title_cell": "Table of Contents",
   "title_sidebar": "Contents",
   "toc_cell": false,
   "toc_position": {
    "height": "calc(100% - 180px)",
    "left": "10px",
    "top": "150px",
    "width": "165px"
   },
   "toc_section_display": true,
   "toc_window_display": false
  }
 },
 "nbformat": 4,
 "nbformat_minor": 5
}
