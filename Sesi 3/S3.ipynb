{
 "cells": [
  {
   "cell_type": "code",
   "execution_count": null,
   "id": "a44ba520",
   "metadata": {},
   "outputs": [],
   "source": [
    "from pyttsx3 import voices\n",
    "\n",
    "engine = pyttsx3.init('nsss')\n",
    "engine.getProperty('voices')\n",
    "engine.setProperty('voices', voices[0].id)"
   ]
  },
  {
   "cell_type": "code",
   "execution_count": null,
   "id": "1972b24a",
   "metadata": {},
   "outputs": [],
   "source": [
    "def bicara(text):\n",
    "    engine.say(text)\n",
    "    engine.runAndWait()\n",
    "    \n",
    "if __name__ == '__main__':\n",
    "    bicara(\"Hello, How are you today?\")"
   ]
  },
  {
   "cell_type": "code",
   "execution_count": 1,
   "id": "86f3e7e7",
   "metadata": {},
   "outputs": [],
   "source": [
    "def function_cetak_luas(panjang, lebar):\n",
    "    \"\"\"\n",
    "    Function untuk mencetak luas persegi\n",
    "    rumus luas :\n",
    "    Panjang x Lebar\n",
    "    \"\"\"\n",
    "    print(panjang*lebar)"
   ]
  },
  {
   "cell_type": "code",
   "execution_count": 2,
   "id": "b2050316",
   "metadata": {},
   "outputs": [
    {
     "name": "stdout",
     "output_type": "stream",
     "text": [
      "60\n"
     ]
    }
   ],
   "source": [
    "function_cetak_luas(20,3)"
   ]
  },
  {
   "cell_type": "code",
   "execution_count": 3,
   "id": "57f7b62a",
   "metadata": {},
   "outputs": [],
   "source": [
    "def changeme(mylist):\n",
    "\n",
    "    mylist.append([1,2,3,4])\n",
    "    print(\"Value inside function\", mylist)\n",
    "    return mylist"
   ]
  },
  {
   "cell_type": "code",
   "execution_count": 7,
   "id": "4806e90c",
   "metadata": {},
   "outputs": [
    {
     "name": "stdout",
     "output_type": "stream",
     "text": [
      "Value inside function [10, 20, 30, [1, 2, 3, 4]]\n",
      "Value outside function  [10, 20, 30, [1, 2, 3, 4]]\n"
     ]
    }
   ],
   "source": [
    "list1 = [10,20,30];\n",
    "changeme(list1);\n",
    "\n",
    "print(\"Value outside function \", list1);"
   ]
  },
  {
   "cell_type": "code",
   "execution_count": 12,
   "id": "05ae4506",
   "metadata": {},
   "outputs": [
    {
     "name": "stdout",
     "output_type": "stream",
     "text": [
      "Nama saya adalah Haikal\n",
      "Role saya diperusahaan adalah Data Science\n"
     ]
    }
   ],
   "source": [
    "def printinfo(role,name ):\n",
    "    print(\"Nama saya adalah\", name)\n",
    "    print(\"Role saya diperusahaan adalah\", role)\n",
    "    return;\n",
    "\n",
    "printinfo(role='Data Science', name='Haikal')"
   ]
  },
  {
   "cell_type": "code",
   "execution_count": 14,
   "id": "b4f081e7",
   "metadata": {},
   "outputs": [
    {
     "data": {
      "text/plain": [
       "40"
      ]
     },
     "execution_count": 14,
     "metadata": {},
     "output_type": "execute_result"
    }
   ],
   "source": [
    "jumlahKucing = 20\n",
    "\n",
    "def jumlahHewan():\n",
    "    jumlahAnjing = 30\n",
    "    return jumlahKucing + jumlahAnjing\n",
    "\n",
    "def jumlahKelinci():\n",
    "    return jumlahKucing + jumlahKucing\n",
    "\n",
    "jumlahHewan()\n",
    "jumlahKelinci()"
   ]
  },
  {
   "cell_type": "code",
   "execution_count": 10,
   "id": "562f11ac",
   "metadata": {},
   "outputs": [
    {
     "data": {
      "text/plain": [
       "30"
      ]
     },
     "execution_count": 10,
     "metadata": {},
     "output_type": "execute_result"
    }
   ],
   "source": [
    "sum = lambda arg1, arg2 : arg1 + arg2;\n",
    "sum(10,20)"
   ]
  },
  {
   "cell_type": "code",
   "execution_count": 17,
   "id": "0eed8491",
   "metadata": {},
   "outputs": [
    {
     "name": "stdout",
     "output_type": "stream",
     "text": [
      "None\n"
     ]
    }
   ],
   "source": [
    "def ispalindrome (word):\n",
    "    if len(word) < 2:\n",
    "        return True\n",
    "    if word[0] != word[-1]:\n",
    "        return False\n",
    "    ispalindrome(word[1:-1])\n",
    "\n",
    "print(ispalindrome('madam'))"
   ]
  }
 ],
 "metadata": {
  "kernelspec": {
   "display_name": "Python 3.9.4 64-bit",
   "language": "python",
   "name": "python3"
  },
  "language_info": {
   "codemirror_mode": {
    "name": "ipython",
    "version": 3
   },
   "file_extension": ".py",
   "mimetype": "text/x-python",
   "name": "python",
   "nbconvert_exporter": "python",
   "pygments_lexer": "ipython3",
   "version": "3.9.4"
  },
  "toc": {
   "base_numbering": 1,
   "nav_menu": {},
   "number_sections": true,
   "sideBar": true,
   "skip_h1_title": false,
   "title_cell": "Table of Contents",
   "title_sidebar": "Contents",
   "toc_cell": false,
   "toc_position": {},
   "toc_section_display": true,
   "toc_window_display": false
  },
  "vscode": {
   "interpreter": {
    "hash": "52634da84371cba311ea128a5ea7cdc41ff074b781779e754b270ff9f8153cee"
   }
  }
 },
 "nbformat": 4,
 "nbformat_minor": 5
}
