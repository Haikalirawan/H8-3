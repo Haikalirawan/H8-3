{
 "cells": [
  {
   "cell_type": "markdown",
   "id": "4b27e5d7",
   "metadata": {},
   "source": [
    "# NumPy Course\n",
    "Disini tempat belajar tentang Numpy untuk Data Science"
   ]
  },
  {
   "cell_type": "code",
   "execution_count": 1,
   "id": "26d87eb4",
   "metadata": {},
   "outputs": [
    {
     "data": {
      "text/plain": [
       "'1.20.2'"
      ]
     },
     "execution_count": 1,
     "metadata": {},
     "output_type": "execute_result"
    }
   ],
   "source": [
    "import numpy as np\n",
    "np.__version__"
   ]
  },
  {
   "cell_type": "markdown",
   "id": "41cc5038",
   "metadata": {},
   "source": [
    "## Python List"
   ]
  },
  {
   "cell_type": "code",
   "execution_count": 2,
   "id": "2a57d9f4",
   "metadata": {},
   "outputs": [],
   "source": [
    "ip_list = [3.7, 3.4, 3.5, 3.4]"
   ]
  },
  {
   "cell_type": "code",
   "execution_count": 3,
   "id": "428e947e",
   "metadata": {},
   "outputs": [],
   "source": [
    "ip_list.append(4.0)\n",
    "ip_list"
   ]
  },
  {
   "cell_type": "code",
   "execution_count": 8,
   "id": "a395c688",
   "metadata": {},
   "outputs": [],
   "source": [
    "ip_list.insert(1, \"Belum ada\")\n",
    "ip_list"
   ]
  },
  {
   "cell_type": "code",
   "execution_count": 12,
   "id": "462eed66",
   "metadata": {},
   "outputs": [
    {
     "data": {
      "text/plain": [
       "[3.7, 'Belum ada', 3.5, 3.4, 4.0]"
      ]
     },
     "execution_count": 12,
     "metadata": {},
     "output_type": "execute_result"
    }
   ],
   "source": [
    "ip_list.pop(2)\n",
    "ip_list"
   ]
  },
  {
   "cell_type": "markdown",
   "id": "9913821b",
   "metadata": {},
   "source": [
    "## Numpy Array"
   ]
  },
  {
   "cell_type": "code",
   "execution_count": 13,
   "id": "323e48f3",
   "metadata": {},
   "outputs": [
    {
     "data": {
      "text/plain": [
       "array(['3.7', 'Belum ada', '3.5', '3.4', '4.0'], dtype='<U32')"
      ]
     },
     "execution_count": 13,
     "metadata": {},
     "output_type": "execute_result"
    }
   ],
   "source": [
    "ip = np.array(ip_list)\n",
    "ip"
   ]
  },
  {
   "cell_type": "code",
   "execution_count": 14,
   "id": "1c7026e6",
   "metadata": {},
   "outputs": [
    {
     "data": {
      "text/plain": [
       "dtype('<U32')"
      ]
     },
     "execution_count": 14,
     "metadata": {},
     "output_type": "execute_result"
    }
   ],
   "source": [
    "ip.dtype"
   ]
  },
  {
   "cell_type": "code",
   "execution_count": 15,
   "id": "f2897bf7",
   "metadata": {},
   "outputs": [
    {
     "data": {
      "text/plain": [
       "5"
      ]
     },
     "execution_count": 15,
     "metadata": {},
     "output_type": "execute_result"
    }
   ],
   "source": [
    "ip.size"
   ]
  },
  {
   "cell_type": "markdown",
   "id": "398a9a1b",
   "metadata": {},
   "source": [
    "## Study Log"
   ]
  },
  {
   "cell_type": "code",
   "execution_count": 38,
   "id": "7a1486fd",
   "metadata": {},
   "outputs": [
    {
     "data": {
      "text/plain": [
       "array([0., 0., 0., 0., 0., 0., 0., 0., 0., 0., 0., 0., 0., 0., 0., 0., 0.,\n",
       "       0., 0., 0., 0., 0., 0., 0., 0., 0., 0., 0., 0., 0., 0., 0., 0., 0.,\n",
       "       0., 0., 0., 0., 0., 0., 0., 0., 0., 0., 0., 0., 0., 0., 0., 0., 0.,\n",
       "       0., 0., 0., 0., 0., 0., 0., 0., 0., 0., 0., 0., 0., 0., 0., 0., 0.,\n",
       "       0., 0., 0., 0., 0., 0., 0., 0., 0., 0., 0., 0., 0., 0., 0., 0., 0.,\n",
       "       0., 0., 0., 0., 0., 0., 0., 0., 0., 0., 0., 0., 0., 0., 0.])"
      ]
     },
     "execution_count": 38,
     "metadata": {},
     "output_type": "execute_result"
    }
   ],
   "source": [
    "mahasiswa_permenit = np.zeros(100)\n",
    "mahasiswa_permenit"
   ]
  },
  {
   "cell_type": "code",
   "execution_count": 18,
   "id": "11dafddd",
   "metadata": {},
   "outputs": [
    {
     "name": "stdout",
     "output_type": "stream",
     "text": [
      "Variable         Type       Data/Info\n",
      "-------------------------------------\n",
      "autopep8         module     <module 'autopep8' from '<...>e-packages\\\\autopep8.py'>\n",
      "ip               ndarray    5: 5 elems, type `<U32`, 640 bytes\n",
      "ip_list          list       n=5\n",
      "json             module     <module 'json' from 'C:\\\\<...>\\lib\\\\json\\\\__init__.py'>\n",
      "np               module     <module 'numpy' from 'C:\\<...>ges\\\\numpy\\\\__init__.py'>\n",
      "study_permenit   ndarray    100: 100 elems, type `float64`, 800 bytes\n"
     ]
    }
   ],
   "source": [
    "# Khusus menggunakan Jupyter Notebook\n",
    "%whos"
   ]
  },
  {
   "cell_type": "markdown",
   "id": "68ddde04",
   "metadata": {},
   "source": [
    "## Array Multidimensi"
   ]
  },
  {
   "cell_type": "code",
   "execution_count": 25,
   "id": "146eb85f",
   "metadata": {},
   "outputs": [
    {
     "data": {
      "text/plain": [
       "array([[4. , 3.7, 3.5, 3.4],\n",
       "       [4. , 3.6, 3.8, 3.9],\n",
       "       [3.4, 3.6, 3.8, 3.9]], dtype=float16)"
      ]
     },
     "execution_count": 25,
     "metadata": {},
     "output_type": "execute_result"
    }
   ],
   "source": [
    "ip_mahasiswa = np.array([\n",
    "    [4.0, 3.7, 3.5, 3.4],\n",
    "    [4.0, 3.6, 3.8, 3.9],\n",
    "    [3.4, 3.6, 3.8, 3.9]\n",
    "], np.float16)\n",
    "\n",
    "ip_mahasiswa"
   ]
  },
  {
   "cell_type": "code",
   "execution_count": 26,
   "id": "73bbbe9f",
   "metadata": {},
   "outputs": [
    {
     "data": {
      "text/plain": [
       "2"
      ]
     },
     "execution_count": 26,
     "metadata": {},
     "output_type": "execute_result"
    }
   ],
   "source": [
    " ip_mahasiswa.ndim"
   ]
  },
  {
   "cell_type": "code",
   "execution_count": 27,
   "id": "ef30b174",
   "metadata": {},
   "outputs": [
    {
     "data": {
      "text/plain": [
       "(3, 4)"
      ]
     },
     "execution_count": 27,
     "metadata": {},
     "output_type": "execute_result"
    }
   ],
   "source": [
    "ip_mahasiswa.shape"
   ]
  },
  {
   "cell_type": "code",
   "execution_count": 29,
   "id": "176ee7e1",
   "metadata": {},
   "outputs": [
    {
     "data": {
      "text/plain": [
       "array([4. , 3.6, 3.8, 3.9], dtype=float16)"
      ]
     },
     "execution_count": 29,
     "metadata": {},
     "output_type": "execute_result"
    }
   ],
   "source": [
    "ip_mahasiswa[1]"
   ]
  },
  {
   "cell_type": "code",
   "execution_count": 30,
   "id": "078e7ee5",
   "metadata": {},
   "outputs": [
    {
     "data": {
      "text/plain": [
       "3.9"
      ]
     },
     "execution_count": 30,
     "metadata": {},
     "output_type": "execute_result"
    }
   ],
   "source": [
    "ip_mahasiswa[1][3]"
   ]
  },
  {
   "cell_type": "markdown",
   "id": "d0d2c539",
   "metadata": {},
   "source": [
    "## Mahasiswa Log Multidimensi"
   ]
  },
  {
   "cell_type": "code",
   "execution_count": 39,
   "id": "62dd4812",
   "metadata": {},
   "outputs": [
    {
     "data": {
      "text/plain": [
       "(100,)"
      ]
     },
     "execution_count": 39,
     "metadata": {},
     "output_type": "execute_result"
    }
   ],
   "source": [
    "mahasiswa_menit = np.array([\n",
    "    mahasiswa_permenit, \n",
    "    np.zeros(100)\n",
    "    ])\n",
    "mahasiswa_permenit.shape"
   ]
  },
  {
   "cell_type": "code",
   "execution_count": 40,
   "id": "56ac7e53",
   "metadata": {},
   "outputs": [
    {
     "data": {
      "text/plain": [
       "array([[ 0.,  0.,  0.,  0.,  0.,  0.,  0.,  0.,  0.,  0.,  0.,  0.,  0.,\n",
       "         0.,  0.,  0.,  0.,  0.,  0.,  0.,  0.,  0.,  0.,  0.,  0.,  0.,\n",
       "         0.,  0.,  0.,  0.,  0.,  0.,  0.,  0.,  0.,  0.,  0.,  0.,  0.,\n",
       "         0.,  0.,  0.,  0.,  0.,  0.,  0.,  0.,  0.,  0.,  0.,  0.,  0.,\n",
       "         0.,  0.,  0.,  0.,  0.,  0.,  0.,  0.,  0.,  0.,  0.,  0.,  0.,\n",
       "         0.,  0.,  0.,  0.,  0.,  0.,  0.,  0.,  0.,  0.,  0.,  0.,  0.,\n",
       "         0.,  0.,  0.,  0.,  0.,  0.,  0.,  0.,  0.,  0.,  0.,  0.,  0.,\n",
       "         0.,  0.,  0.,  0.,  0.,  0.,  0.,  0.,  0.],\n",
       "       [60.,  0.,  0.,  0.,  0.,  0.,  0.,  0.,  0.,  0.,  0.,  0.,  0.,\n",
       "         0.,  0.,  0.,  0.,  0.,  0.,  0.,  0.,  0.,  0.,  0.,  0.,  0.,\n",
       "         0.,  0.,  0.,  0.,  0.,  0.,  0.,  0.,  0.,  0.,  0.,  0.,  0.,\n",
       "         0.,  0.,  0.,  0.,  0.,  0.,  0.,  0.,  0.,  0.,  0.,  0.,  0.,\n",
       "         0.,  0.,  0.,  0.,  0.,  0.,  0.,  0.,  0.,  0.,  0.,  0.,  0.,\n",
       "         0.,  0.,  0.,  0.,  0.,  0.,  0.,  0.,  0.,  0.,  0.,  0.,  0.,\n",
       "         0.,  0.,  0.,  0.,  0.,  0.,  0.,  0.,  0.,  0.,  0.,  0.,  0.,\n",
       "         0.,  0.,  0.,  0.,  0.,  0.,  0.,  0.,  0.]])"
      ]
     },
     "execution_count": 40,
     "metadata": {},
     "output_type": "execute_result"
    }
   ],
   "source": [
    "mahasiswa_menit[1][0] = 60.0\n",
    "mahasiswa_menit"
   ]
  },
  {
   "cell_type": "code",
   "execution_count": 60,
   "id": "79e608e5",
   "metadata": {},
   "outputs": [
    {
     "data": {
      "text/plain": [
       "array([169, 139,  63, 162, 100, 100,  52, 163,  32, 125, 101, 141, 122,\n",
       "       121, 164, 178,  73,  61,  79, 115, 136,  94,  36, 177, 160, 109,\n",
       "       135,  56,  90, 145,  96,  97, 160,  40, 140,  30, 123, 124,  30,\n",
       "       169, 101,  81, 121,  92, 171,  66, 158,  73, 177,  88,  75, 159,\n",
       "        39,  59,  82, 131, 117,  62,  49,  77, 122,  36,  95, 114,  66,\n",
       "        74,  83, 108,  34, 116,  73,  49, 134,  60,  74,  65,  57,  80,\n",
       "        88, 173,  35, 155,  86,  77,  98, 162, 176, 141,  72,  47,  41,\n",
       "        89,  37,  83, 161,  51, 100,  86, 109, 125])"
      ]
     },
     "execution_count": 60,
     "metadata": {},
     "output_type": "execute_result"
    }
   ],
   "source": [
    "rand = np.random.RandomState(50)\n",
    "fake_log = rand.randint(30, 180, size=100)\n",
    "fake_log"
   ]
  },
  {
   "cell_type": "markdown",
   "id": "82f9b1f4",
   "metadata": {},
   "source": [
    "### Indexing array"
   ]
  },
  {
   "cell_type": "code",
   "execution_count": 61,
   "id": "a648a55e",
   "metadata": {},
   "outputs": [
    {
     "data": {
      "text/plain": [
       "[63, 52]"
      ]
     },
     "execution_count": 61,
     "metadata": {},
     "output_type": "execute_result"
    }
   ],
   "source": [
    "[fake_log[2], fake_log[6]] "
   ]
  },
  {
   "cell_type": "code",
   "execution_count": 62,
   "id": "6879c711",
   "metadata": {},
   "outputs": [
    {
     "data": {
      "text/plain": [
       "array([63, 52])"
      ]
     },
     "execution_count": 62,
     "metadata": {},
     "output_type": "execute_result"
    }
   ],
   "source": [
    "fake_log[[2,6]]"
   ]
  },
  {
   "cell_type": "code",
   "execution_count": 63,
   "id": "52948f16",
   "metadata": {},
   "outputs": [
    {
     "data": {
      "text/plain": [
       "array([[ 63,  52],\n",
       "       [139,  63]])"
      ]
     },
     "execution_count": 63,
     "metadata": {},
     "output_type": "execute_result"
    }
   ],
   "source": [
    "index = np.array([\n",
    "    [2, 6],\n",
    "    [1, 2]\n",
    "])\n",
    "fake_log[index]"
   ]
  },
  {
   "cell_type": "code",
   "execution_count": 64,
   "id": "937e0b94",
   "metadata": {},
   "outputs": [
    {
     "data": {
      "text/plain": [
       "array([  0,   0,   0,   0,   0,   0,   0,   0,   0,   0,   0,   0,   0,\n",
       "         0,   0,   0,   0,   0,   0,   0,   0,   0,   0,   0,   0,   0,\n",
       "         0,   0,   0,   0,   0,   0,   0,   0,   0,   0,   0,   0,   0,\n",
       "         0,   0,   0,   0,   0,   0,   0,   0,   0,   0,   0,   0,   0,\n",
       "         0,   0,   0,   0,   0,   0,   0,   0,   0,   0,   0,   0,   0,\n",
       "         0,   0,   0,   0,   0,   0,   0,   0,   0,   0,   0,   0,   0,\n",
       "         0,   0,   0,   0,   0,   0,   0,   0,   0,   0,   0,   0,   0,\n",
       "         0,   0,   0,   0,   0,   0,   0,   0,   0,   0,   0,   0,   0,\n",
       "         0,   0,   0,   0,   0,   0,   0,   0,   0,   0,   0,   0,   0,\n",
       "         0,   0,   0,   0,   0,   0,   0,   0,   0,   0,   0,   0,   0,\n",
       "         0,   0,   0,   0,   0,   0,   0,   0,   0,   0,   0,   0,   0,\n",
       "         0,   0,   0,   0,   0,   0,   0,   0,   0,   0,   0,   0,   0,\n",
       "         0,   0,   0,   0,   0,   0,   0,   0,   0,   0,   0,   0,   0,\n",
       "         0,   0,   0,   0,   0,   0,   0,   0,   0,   0,   0,   0,   0,\n",
       "         0,   0,   0,   0,   0,   0,   0,   0,   0,   0,   0,   0,   0,\n",
       "         0,   0,   0,   0,   0,   0,   0,   0,   0,   0,   0,   1,   0,\n",
       "         1,   0,   0,   0,   0,   0,   0,   0,   0,   0,   0,   0,   0,\n",
       "         0,   1,   0,   0,   0,   0,   1,   0,   0,   0,   0,   0,   1,\n",
       "         0,   1,   0,   0,   1,   0,   0,   0,   0,   0,   0,   0,   0,\n",
       "         0,   0,   0,   0,   0,   1,   1,   0,   0,   0,   0,   1,   0,\n",
       "         0,   1,   0,   0,   0,   0,   0,   0,   1,   0,   0,   1,   0,\n",
       "         0,   0,   0,   1,   0,   0,   0,   1,   0,   0,   0,   0,   0,\n",
       "         0,   0,   0,   1,   1,   0,   1,   0,   0,   1,   0,   0,   0,\n",
       "         0, 169, 139,  63, 162, 100, 100,  52, 163,  32, 125, 101, 141,\n",
       "       122, 121, 164, 178,  73,  61,  79, 115, 136,  94,  36, 177, 160,\n",
       "       109, 135,  56,  90, 145,  96,  97, 160,  40, 140,  30, 123, 124,\n",
       "        30, 169, 101,  81, 121,  92, 171,  66, 158,  73, 177,  88,  75,\n",
       "       159,  39,  59,  82, 131, 117,  62,  49,  77, 122,  36,  95, 114,\n",
       "        66,  74,  83, 108,  34, 116,  73,  49, 134,  60,  74,  65,  57,\n",
       "        80,  88, 173,  35, 155,  86,  77,  98, 162, 176, 141,  72,  47,\n",
       "        41,  89,  37,  83, 161,  51, 100,  86, 109, 125])"
      ]
     },
     "execution_count": 64,
     "metadata": {},
     "output_type": "execute_result"
    }
   ],
   "source": [
    "mahasiswa_menit = np.append(mahasiswa_menit, [fake_log])\n",
    "mahasiswa_menit"
   ]
  },
  {
   "cell_type": "markdown",
   "id": "9260ed0b",
   "metadata": {},
   "source": [
    "### Filtering array\n",
    "Mencari durasi belajar dibawah 1 jam (60 Menit)"
   ]
  },
  {
   "cell_type": "code",
   "execution_count": 66,
   "id": "fb229227",
   "metadata": {},
   "outputs": [
    {
     "data": {
      "text/plain": [
       "array([ 1,  1,  1,  1,  1,  1,  1,  1,  1,  1,  1,  1,  1,  1,  1,  1,  1,\n",
       "        1,  1, 52, 32, 36, 56, 40, 30, 30, 39, 59, 49, 36, 34, 49, 57, 35,\n",
       "       47, 41, 37, 51])"
      ]
     },
     "execution_count": 66,
     "metadata": {},
     "output_type": "execute_result"
    }
   ],
   "source": [
    "mahasiswa_menit[mahasiswa_menit < 60]\n",
    "mahasiswa_menit[(mahasiswa_menit < 60) & (mahasiswa_menit > 0)]"
   ]
  },
  {
   "cell_type": "markdown",
   "id": "3e0db4c2",
   "metadata": {},
   "source": [
    "### Slicing array"
   ]
  },
  {
   "cell_type": "code",
   "execution_count": 8,
   "id": "9c4a77ef",
   "metadata": {},
   "outputs": [
    {
     "data": {
      "text/plain": [
       "array([[ 0,  1,  2,  3,  4,  5,  6,  7,  8,  9],\n",
       "       [10, 11, 12, 13, 14, 15, 16, 17, 18, 19],\n",
       "       [20, 21, 22, 23, 24, 25, 26, 27, 28, 29],\n",
       "       [30, 31, 32, 33, 34, 35, 36, 37, 38, 39],\n",
       "       [40, 41, 42, 43, 44, 45, 46, 47, 48, 49]])"
      ]
     },
     "execution_count": 8,
     "metadata": {},
     "output_type": "execute_result"
    }
   ],
   "source": [
    "practice = np.arange(50)\n",
    "practice.shape = (5,10)\n",
    "practice"
   ]
  },
  {
   "cell_type": "code",
   "execution_count": 9,
   "id": "41af50ee",
   "metadata": {},
   "outputs": [
    {
     "data": {
      "text/plain": [
       "23"
      ]
     },
     "execution_count": 9,
     "metadata": {},
     "output_type": "execute_result"
    }
   ],
   "source": [
    "practice[2,3]"
   ]
  },
  {
   "cell_type": "code",
   "execution_count": 10,
   "id": "db6dfa12",
   "metadata": {},
   "outputs": [
    {
     "data": {
      "text/plain": [
       "23"
      ]
     },
     "execution_count": 10,
     "metadata": {},
     "output_type": "execute_result"
    }
   ],
   "source": [
    "practice[2][3]"
   ]
  },
  {
   "cell_type": "code",
   "execution_count": 11,
   "id": "ff7bbe0d",
   "metadata": {},
   "outputs": [
    {
     "data": {
      "text/plain": [
       "array([[20, 21, 22, 23, 24, 25, 26, 27, 28, 29],\n",
       "       [30, 31, 32, 33, 34, 35, 36, 37, 38, 39],\n",
       "       [40, 41, 42, 43, 44, 45, 46, 47, 48, 49]])"
      ]
     },
     "execution_count": 11,
     "metadata": {},
     "output_type": "execute_result"
    }
   ],
   "source": [
    "practice[2:]"
   ]
  },
  {
   "cell_type": "code",
   "execution_count": 12,
   "id": "c15b68ad",
   "metadata": {},
   "outputs": [
    {
     "data": {
      "text/plain": [
       "array([23, 33, 43])"
      ]
     },
     "execution_count": 12,
     "metadata": {},
     "output_type": "execute_result"
    }
   ],
   "source": [
    "practice[2:, 3]"
   ]
  },
  {
   "cell_type": "code",
   "execution_count": 13,
   "id": "9470d427",
   "metadata": {},
   "outputs": [
    {
     "data": {
      "text/plain": [
       "array([[23, 24, 25, 26, 27, 28, 29],\n",
       "       [33, 34, 35, 36, 37, 38, 39],\n",
       "       [43, 44, 45, 46, 47, 48, 49]])"
      ]
     },
     "execution_count": 13,
     "metadata": {},
     "output_type": "execute_result"
    }
   ],
   "source": [
    "practice[2: , 3:]"
   ]
  },
  {
   "cell_type": "markdown",
   "id": "2cf12637",
   "metadata": {},
   "source": [
    "### Copy vs View"
   ]
  },
  {
   "cell_type": "code",
   "execution_count": 19,
   "id": "f9a05733",
   "metadata": {},
   "outputs": [
    {
     "data": {
      "text/plain": [
       "([1, 2, 3], [12345, 2, 3])"
      ]
     },
     "execution_count": 19,
     "metadata": {},
     "output_type": "execute_result"
    }
   ],
   "source": [
    "practice_list = [1, 2, 3]\n",
    "practice_list_copy = practice_list[:]\n",
    "practice_list, practice_list_copy\n",
    "practice_list_copy[0] = 12345\n",
    "practice_list, practice_list_copy"
   ]
  },
  {
   "cell_type": "code",
   "execution_count": 20,
   "id": "4c9f915f",
   "metadata": {},
   "outputs": [
    {
     "data": {
      "text/plain": [
       "(array([[12345,     1,     2,     3,     4,     5,     6,     7,     8,\n",
       "             9],\n",
       "        [   10,    11,    12,    13,    14,    15,    16,    17,    18,\n",
       "            19],\n",
       "        [   20,    21,    22,    23,    24,    25,    26,    27,    28,\n",
       "            29],\n",
       "        [   30,    31,    32,    33,    34,    35,    36,    37,    38,\n",
       "            39],\n",
       "        [   40,    41,    42,    43,    44,    45,    46,    47,    48,\n",
       "            49]]),\n",
       " array([[12345,     1,     2,     3,     4,     5,     6,     7,     8,\n",
       "             9],\n",
       "        [   10,    11,    12,    13,    14,    15,    16,    17,    18,\n",
       "            19],\n",
       "        [   20,    21,    22,    23,    24,    25,    26,    27,    28,\n",
       "            29],\n",
       "        [   30,    31,    32,    33,    34,    35,    36,    37,    38,\n",
       "            39],\n",
       "        [   40,    41,    42,    43,    44,    45,    46,    47,    48,\n",
       "            49]]))"
      ]
     },
     "execution_count": 20,
     "metadata": {},
     "output_type": "execute_result"
    }
   ],
   "source": [
    "not_copied = practice[:]\n",
    "not_copied[0,0] = 12345\n",
    "practice, not_copied"
   ]
  },
  {
   "cell_type": "code",
   "execution_count": 21,
   "id": "fe0faf78",
   "metadata": {},
   "outputs": [
    {
     "name": "stdout",
     "output_type": "stream",
     "text": [
      "None\n"
     ]
    }
   ],
   "source": [
    "print(practice.base)"
   ]
  },
  {
   "cell_type": "code",
   "execution_count": 22,
   "id": "65dcf965",
   "metadata": {},
   "outputs": [
    {
     "name": "stdout",
     "output_type": "stream",
     "text": [
      "[[12345     1     2     3     4     5     6     7     8     9]\n",
      " [   10    11    12    13    14    15    16    17    18    19]\n",
      " [   20    21    22    23    24    25    26    27    28    29]\n",
      " [   30    31    32    33    34    35    36    37    38    39]\n",
      " [   40    41    42    43    44    45    46    47    48    49]]\n"
     ]
    }
   ],
   "source": [
    "print(not_copied.base)"
   ]
  },
  {
   "cell_type": "code",
   "execution_count": 25,
   "id": "7e594fa8",
   "metadata": {},
   "outputs": [
    {
     "data": {
      "text/plain": [
       "True"
      ]
     },
     "execution_count": 25,
     "metadata": {},
     "output_type": "execute_result"
    }
   ],
   "source": [
    "not_copied.base is practice"
   ]
  },
  {
   "cell_type": "code",
   "execution_count": 33,
   "id": "55dc7425",
   "metadata": {},
   "outputs": [
    {
     "data": {
      "text/plain": [
       "False"
      ]
     },
     "execution_count": 33,
     "metadata": {},
     "output_type": "execute_result"
    }
   ],
   "source": [
    "not_copied.base is practice_list"
   ]
  },
  {
   "cell_type": "markdown",
   "id": "6f714471",
   "metadata": {},
   "source": [
    "## Visualisasi data array"
   ]
  },
  {
   "cell_type": "markdown",
   "id": "9df08efd",
   "metadata": {},
   "source": [
    "### Aljabar Linear"
   ]
  },
  {
   "cell_type": "code",
   "execution_count": 67,
   "id": "9ab22dc1",
   "metadata": {},
   "outputs": [
    {
     "data": {
      "text/plain": [
       "array([10000.,  2500.,  5000.,  3000.])"
      ]
     },
     "execution_count": 67,
     "metadata": {},
     "output_type": "execute_result"
    }
   ],
   "source": [
    "orders = np.array([\n",
    "    [2, 0, 0, 0],\n",
    "    [1, 0, 2, 4],\n",
    "    [1, 2, 1, 0],\n",
    "    [4, 6, 0, 2]\n",
    "])\n",
    "totals = np.array([20000, 32000, 20000, 61000])\n",
    "prices = np.linalg.solve(orders, totals)\n",
    "prices"
   ]
  },
  {
   "cell_type": "code",
   "execution_count": 68,
   "id": "00a17609",
   "metadata": {},
   "outputs": [
    {
     "data": {
      "text/plain": [
       "array([20000., 32000., 20000., 61000.])"
      ]
     },
     "execution_count": 68,
     "metadata": {},
     "output_type": "execute_result"
    }
   ],
   "source": [
    "# Perkalian khusus matriks\n",
    "orders @ prices"
   ]
  },
  {
   "cell_type": "markdown",
   "id": "546faae4",
   "metadata": {},
   "source": [
    "### Fungsi Universal"
   ]
  },
  {
   "cell_type": "code",
   "execution_count": 72,
   "id": "1c0dd0fd",
   "metadata": {},
   "outputs": [],
   "source": [
    "a = np.array([1,2,3,4])\n",
    "b = np.array([5,6,7,8])"
   ]
  },
  {
   "cell_type": "code",
   "execution_count": 76,
   "id": "e47e67de",
   "metadata": {},
   "outputs": [
    {
     "data": {
      "text/plain": [
       "array([4, 5, 6, 7])"
      ]
     },
     "execution_count": 76,
     "metadata": {},
     "output_type": "execute_result"
    }
   ],
   "source": [
    "a + np.repeat(3, 4)"
   ]
  },
  {
   "cell_type": "code",
   "execution_count": 79,
   "id": "8d47e6c1",
   "metadata": {},
   "outputs": [
    {
     "data": {
      "text/plain": [
       "(array([[0., 1., 2.],\n",
       "        [3., 4., 5.],\n",
       "        [6., 7., 8.]]),\n",
       " array([0., 1., 2.]))"
      ]
     },
     "execution_count": 79,
     "metadata": {},
     "output_type": "execute_result"
    }
   ],
   "source": [
    "x1 = np.arange(9.0).reshape((3,3))\n",
    "x2 = np.arange(3.0)\n",
    "\n",
    "x1,x2"
   ]
  },
  {
   "cell_type": "code",
   "execution_count": 80,
   "id": "6bcab7c3",
   "metadata": {},
   "outputs": [
    {
     "data": {
      "text/plain": [
       "array([[ 0.,  2.,  4.],\n",
       "       [ 3.,  5.,  7.],\n",
       "       [ 6.,  8., 10.]])"
      ]
     },
     "execution_count": 80,
     "metadata": {},
     "output_type": "execute_result"
    }
   ],
   "source": [
    "np.add(x1, x2)"
   ]
  },
  {
   "cell_type": "markdown",
   "id": "fc19be12",
   "metadata": {},
   "source": [
    "### Operasi matrix lainnya "
   ]
  },
  {
   "cell_type": "code",
   "execution_count": 85,
   "id": "1573293e",
   "metadata": {},
   "outputs": [
    {
     "name": "stdout",
     "output_type": "stream",
     "text": [
      "[ 1  1  1  1  1  1  1  1  1  1  1  1  1  1  1  1  1  1  1 52 32 36 56 40\n",
      " 30 30 39 59 49 36 34 49 57 35 47 41 37 51]\n"
     ]
    },
    {
     "data": {
      "text/plain": [
       "829"
      ]
     },
     "execution_count": 85,
     "metadata": {},
     "output_type": "execute_result"
    }
   ],
   "source": [
    "mahasiswa_less = mahasiswa_menit[(mahasiswa_menit < 60) & (mahasiswa_menit > 0)]\n",
    "print(mahasiswa_less)\n",
    "np.add.reduce(mahasiswa_less)"
   ]
  },
  {
   "cell_type": "code",
   "execution_count": 87,
   "id": "8ac04939",
   "metadata": {},
   "outputs": [
    {
     "data": {
      "text/plain": [
       "829"
      ]
     },
     "execution_count": 87,
     "metadata": {},
     "output_type": "execute_result"
    }
   ],
   "source": [
    "np.sum(mahasiswa_less)"
   ]
  },
  {
   "cell_type": "markdown",
   "id": "ea4c6258",
   "metadata": {},
   "source": [
    "## MatPlotLib "
   ]
  },
  {
   "cell_type": "code",
   "execution_count": 91,
   "id": "ff4b9518",
   "metadata": {},
   "outputs": [],
   "source": [
    "import matplotlib.pyplot as plt"
   ]
  },
  {
   "cell_type": "code",
   "execution_count": 95,
   "id": "b453a684",
   "metadata": {},
   "outputs": [
    {
     "data": {
      "text/plain": [
       "[]"
      ]
     },
     "execution_count": 95,
     "metadata": {},
     "output_type": "execute_result"
    },
    {
     "data": {
      "image/png": "[encoded data removed]",
      "text/plain": [
       "<Figure size 432x288 with 1 Axes>"
      ]
     },
     "metadata": {
      "needs_background": "light"
     },
     "output_type": "display_data"
    }
   ],
   "source": [
    "plt.hist(mahasiswa_menit[mahasiswa_menit > 0])\n",
    "plt.plot()"
   ]
  }
 ],
 "metadata": {
  "kernelspec": {
   "display_name": "Python 3 (ipykernel)",
   "language": "python",
   "name": "python3"
  },
  "language_info": {
   "codemirror_mode": {
    "name": "ipython",
    "version": 3
   },
   "file_extension": ".py",
   "mimetype": "text/x-python",
   "name": "python",
   "nbconvert_exporter": "python",
   "pygments_lexer": "ipython3",
   "version": "3.9.4"
  },
  "toc": {
   "base_numbering": 1,
   "nav_menu": {},
   "number_sections": true,
   "sideBar": true,
   "skip_h1_title": false,
   "title_cell": "Table of Contents",
   "title_sidebar": "Contents",
   "toc_cell": false,
   "toc_position": {
    "height": "561.111px",
    "left": "135px",
    "top": "111.441px",
    "width": "303.542px"
   },
   "toc_section_display": true,
   "toc_window_display": true
  }
 },
 "nbformat": 4,
 "nbformat_minor": 5
}
