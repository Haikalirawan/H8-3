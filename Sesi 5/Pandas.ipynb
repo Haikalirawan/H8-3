{
 "cells": [
  {
   "cell_type": "markdown",
   "id": "cc99b10b",
   "metadata": {},
   "source": [
    "# Pandas for data science\n",
    "Materi tentang Pandas untuk Data science"
   ]
  },
  {
   "cell_type": "code",
   "execution_count": 1,
   "id": "9734feff",
   "metadata": {},
   "outputs": [],
   "source": [
    "import pandas as pd\n",
    "import numpy as np"
   ]
  },
  {
   "cell_type": "code",
   "execution_count": 3,
   "id": "0b5dad53",
   "metadata": {},
   "outputs": [
    {
     "data": {
      "text/plain": [
       "0    a\n",
       "1    b\n",
       "2    c\n",
       "3    d\n",
       "4    e\n",
       "dtype: object"
      ]
     },
     "execution_count": 3,
     "metadata": {},
     "output_type": "execute_result"
    }
   ],
   "source": [
    "datanp = np.array(['a', 'b', 'c', 'd', 'e'])\n",
    "dts = pd.Series(datanp)\n",
    "dts"
   ]
  },
  {
   "cell_type": "code",
   "execution_count": 2,
   "id": "152e6da3",
   "metadata": {},
   "outputs": [
    {
     "data": {
      "text/plain": [
       "10    a\n",
       "11    b\n",
       "12    c\n",
       "13    d\n",
       "14    e\n",
       "dtype: object"
      ]
     },
     "execution_count": 2,
     "metadata": {},
     "output_type": "execute_result"
    }
   ],
   "source": [
    "datanp = np.array(['a', 'b', 'c', 'd', 'e'])\n",
    "dts = pd.Series(datanp, index=[10,11,12,13,14])\n",
    "dts"
   ]
  },
  {
   "cell_type": "code",
   "execution_count": 5,
   "id": "3b33ed90",
   "metadata": {},
   "outputs": [
    {
     "data": {
      "text/plain": [
       "a    0.7\n",
       "b    2.0\n",
       "c    0.5\n",
       "d    4.0\n",
       "e    5.5\n",
       "dtype: float64"
      ]
     },
     "execution_count": 5,
     "metadata": {},
     "output_type": "execute_result"
    }
   ],
   "source": [
    "datadict = {'a':0.7, 'b':2., 'c':0.5, 'd':4., 'e':5.5}\n",
    "dtsdict = pd.Series(datadict)\n",
    "dtsdict"
   ]
  },
  {
   "cell_type": "code",
   "execution_count": 7,
   "id": "200c153f",
   "metadata": {},
   "outputs": [
    {
     "data": {
      "text/plain": [
       "a    0.7\n",
       "b    2.0\n",
       "e    5.5\n",
       "f    NaN\n",
       "dtype: float64"
      ]
     },
     "execution_count": 7,
     "metadata": {},
     "output_type": "execute_result"
    }
   ],
   "source": [
    "datadict = {'a':0.7, 'b':2., 'c':0.5, 'd':4., 'e':5.5}\n",
    "dtsdict = pd.Series(datadict, index=['a', 'b', 'e', 'f'])\n",
    "dtsdict"
   ]
  },
  {
   "cell_type": "code",
   "execution_count": 9,
   "id": "e5f510cc",
   "metadata": {},
   "outputs": [
    {
     "data": {
      "text/plain": [
       "0     5\n",
       "1     5\n",
       "2     5\n",
       "3     5\n",
       "4     5\n",
       "5     5\n",
       "6     5\n",
       "7     5\n",
       "8     5\n",
       "9     5\n",
       "10    5\n",
       "11    5\n",
       "dtype: int64"
      ]
     },
     "execution_count": 9,
     "metadata": {},
     "output_type": "execute_result"
    }
   ],
   "source": [
    "dtsscalar = pd.Series(5, index=[0,1,2,3,4,5,6,7,8,9,10,11])\n",
    "dtsscalar"
   ]
  },
  {
   "cell_type": "code",
   "execution_count": 14,
   "id": "5b3ae73d",
   "metadata": {},
   "outputs": [
    {
     "name": "stdout",
     "output_type": "stream",
     "text": [
      "a\n",
      "0    a\n",
      "1    b\n",
      "2    c\n",
      "dtype: object\n"
     ]
    }
   ],
   "source": [
    "datanp = np.array(['a', 'b', 'c', 'd', 'e'])\n",
    "dts = pd.Series(datanp)\n",
    "print(dts[0])\n",
    "print(dts[:3])"
   ]
  },
  {
   "cell_type": "code",
   "execution_count": 15,
   "id": "179bd8f0",
   "metadata": {},
   "outputs": [
    {
     "data": {
      "text/plain": [
       "a    10\n",
       "b    20\n",
       "c    30\n",
       "d    40\n",
       "e    50\n",
       "dtype: int32"
      ]
     },
     "execution_count": 15,
     "metadata": {},
     "output_type": "execute_result"
    }
   ],
   "source": [
    "datanp = np.array([10, 20, 30, 40, 50])\n",
    "dts = pd.Series(datanp, index=['a', 'b', 'c', 'd', 'e'])\n",
    "dts"
   ]
  },
  {
   "cell_type": "code",
   "execution_count": 18,
   "id": "eea1f553",
   "metadata": {},
   "outputs": [
    {
     "name": "stdout",
     "output_type": "stream",
     "text": [
      "40\n",
      "d    40\n",
      "e    50\n",
      "dtype: int32\n"
     ]
    }
   ],
   "source": [
    "print(dts['d'])\n",
    "print(dts['d' : 'e'])"
   ]
  },
  {
   "cell_type": "code",
   "execution_count": 20,
   "id": "d55de96e",
   "metadata": {},
   "outputs": [
    {
     "data": {
      "text/plain": [
       "Index(['a', 'b', 'c', 'd', 'e'], dtype='object')"
      ]
     },
     "execution_count": 20,
     "metadata": {},
     "output_type": "execute_result"
    }
   ],
   "source": [
    "dts.index"
   ]
  },
  {
   "cell_type": "code",
   "execution_count": 27,
   "id": "8c224264",
   "metadata": {},
   "outputs": [
    {
     "data": {
      "text/plain": [
       "<pandas.core.indexing._LocIndexer at 0x272d799a900>"
      ]
     },
     "execution_count": 27,
     "metadata": {},
     "output_type": "execute_result"
    }
   ],
   "source": [
    "dts.loc"
   ]
  },
  {
   "cell_type": "code",
   "execution_count": 21,
   "id": "1d6b121c",
   "metadata": {},
   "outputs": [
    {
     "data": {
      "text/plain": [
       "<pandas.core.indexing._iLocIndexer at 0x272d6fecea0>"
      ]
     },
     "execution_count": 21,
     "metadata": {},
     "output_type": "execute_result"
    }
   ],
   "source": [
    "dts.iloc"
   ]
  },
  {
   "cell_type": "code",
   "execution_count": 24,
   "id": "86c47f48",
   "metadata": {},
   "outputs": [
    {
     "data": {
      "text/plain": [
       "Int64Index([1, 2, 3, 6, 7, 9], dtype='int64')"
      ]
     },
     "execution_count": 24,
     "metadata": {},
     "output_type": "execute_result"
    }
   ],
   "source": [
    "dats = pd.Series([1,2,3,4,5,6], index=[1,2,3,6,7,9])\n",
    "dats.index"
   ]
  },
  {
   "cell_type": "markdown",
   "id": "59ac7686",
   "metadata": {},
   "source": [
    "## Data frame "
   ]
  },
  {
   "cell_type": "code",
   "execution_count": 33,
   "id": "1564ecf9",
   "metadata": {},
   "outputs": [
    {
     "data": {
      "text/html": [
       "<div>\n",
       "<style scoped>\n",
       "    .dataframe tbody tr th:only-of-type {\n",
       "        vertical-align: middle;\n",
       "    }\n",
       "\n",
       "    .dataframe tbody tr th {\n",
       "        vertical-align: top;\n",
       "    }\n",
       "\n",
       "    .dataframe thead th {\n",
       "        text-align: right;\n",
       "    }\n",
       "</style>\n",
       "<table border=\"1\" class=\"dataframe\">\n",
       "  <thead>\n",
       "    <tr style=\"text-align: right;\">\n",
       "      <th></th>\n",
       "      <th>name</th>\n",
       "      <th>age</th>\n",
       "      <th>address</th>\n",
       "      <th>school</th>\n",
       "    </tr>\n",
       "  </thead>\n",
       "  <tbody>\n",
       "    <tr>\n",
       "      <th>0</th>\n",
       "      <td>Budi</td>\n",
       "      <td>8</td>\n",
       "      <td>Jakarta</td>\n",
       "      <td>SD</td>\n",
       "    </tr>\n",
       "    <tr>\n",
       "      <th>1</th>\n",
       "      <td>Imawan</td>\n",
       "      <td>20</td>\n",
       "      <td>Surabaya</td>\n",
       "      <td>Work</td>\n",
       "    </tr>\n",
       "    <tr>\n",
       "      <th>2</th>\n",
       "      <td>joko</td>\n",
       "      <td>35</td>\n",
       "      <td>kalimantan</td>\n",
       "      <td>Work</td>\n",
       "    </tr>\n",
       "    <tr>\n",
       "      <th>3</th>\n",
       "      <td>Juadi</td>\n",
       "      <td>12</td>\n",
       "      <td>Madura</td>\n",
       "      <td>SMP</td>\n",
       "    </tr>\n",
       "  </tbody>\n",
       "</table>\n",
       "</div>"
      ],
      "text/plain": [
       "     name  age     address school\n",
       "0    Budi    8     Jakarta     SD\n",
       "1  Imawan   20    Surabaya   Work\n",
       "2    joko   35  kalimantan   Work\n",
       "3   Juadi   12      Madura    SMP"
      ]
     },
     "execution_count": 33,
     "metadata": {},
     "output_type": "execute_result"
    }
   ],
   "source": [
    "datadict = {\n",
    "    'name': ['Budi', 'Imawan', 'joko', 'Juadi'],\n",
    "    'age': [8,20,35,12],\n",
    "    'address': ['Jakarta', 'Surabaya', 'Kalimantan', 'Madura'],\n",
    "    'school': ['SD', 'Work', 'Work', 'SMP']\n",
    "}\n",
    "\n",
    "df = pd.DataFrame(datadict)\n",
    "df"
   ]
  },
  {
   "cell_type": "code",
   "execution_count": 42,
   "id": "e8320d25",
   "metadata": {},
   "outputs": [
    {
     "data": {
      "text/html": [
       "<div>\n",
       "<style scoped>\n",
       "    .dataframe tbody tr th:only-of-type {\n",
       "        vertical-align: middle;\n",
       "    }\n",
       "\n",
       "    .dataframe tbody tr th {\n",
       "        vertical-align: top;\n",
       "    }\n",
       "\n",
       "    .dataframe thead th {\n",
       "        text-align: right;\n",
       "    }\n",
       "</style>\n",
       "<table border=\"1\" class=\"dataframe\">\n",
       "  <thead>\n",
       "    <tr style=\"text-align: right;\">\n",
       "      <th></th>\n",
       "      <th>name</th>\n",
       "      <th>age</th>\n",
       "      <th>address</th>\n",
       "      <th>school</th>\n",
       "    </tr>\n",
       "  </thead>\n",
       "  <tbody>\n",
       "    <tr>\n",
       "      <th>2</th>\n",
       "      <td>joko</td>\n",
       "      <td>35</td>\n",
       "      <td>kalimantan</td>\n",
       "      <td>SD</td>\n",
       "    </tr>\n",
       "  </tbody>\n",
       "</table>\n",
       "</div>"
      ],
      "text/plain": [
       "   name  age     address school\n",
       "2  joko   35  kalimantan     SD"
      ]
     },
     "execution_count": 42,
     "metadata": {},
     "output_type": "execute_result"
    }
   ],
   "source": [
    "# df[['name', 'school']]\n",
    "df.loc[df['address'] == 'kalimantan']"
   ]
  },
  {
   "cell_type": "code",
   "execution_count": 44,
   "id": "7915b685",
   "metadata": {},
   "outputs": [
    {
     "name": "stdout",
     "output_type": "stream",
     "text": [
      "0 name          Budi\n",
      "age              8\n",
      "address    Jakarta\n",
      "school          SD\n",
      "Name: 0, dtype: object\n",
      "1 name         Imawan\n",
      "age              20\n",
      "address    Surabaya\n",
      "school           SD\n",
      "Name: 1, dtype: object\n",
      "2 name             joko\n",
      "age                35\n",
      "address    kalimantan\n",
      "school             SD\n",
      "Name: 2, dtype: object\n",
      "3 name        Juadi\n",
      "age            12\n",
      "address    Madura\n",
      "school         SD\n",
      "Name: 3, dtype: object\n"
     ]
    }
   ],
   "source": [
    "for i,j in df.iterrows():\n",
    "    print(i,j)"
   ]
  },
  {
   "cell_type": "code",
   "execution_count": 45,
   "id": "55ab4c9b",
   "metadata": {},
   "outputs": [
    {
     "data": {
      "text/html": [
       "<div>\n",
       "<style scoped>\n",
       "    .dataframe tbody tr th:only-of-type {\n",
       "        vertical-align: middle;\n",
       "    }\n",
       "\n",
       "    .dataframe tbody tr th {\n",
       "        vertical-align: top;\n",
       "    }\n",
       "\n",
       "    .dataframe thead th {\n",
       "        text-align: right;\n",
       "    }\n",
       "</style>\n",
       "<table border=\"1\" class=\"dataframe\">\n",
       "  <thead>\n",
       "    <tr style=\"text-align: right;\">\n",
       "      <th></th>\n",
       "      <th>x</th>\n",
       "      <th>y</th>\n",
       "      <th>z</th>\n",
       "    </tr>\n",
       "  </thead>\n",
       "  <tbody>\n",
       "    <tr>\n",
       "      <th>0</th>\n",
       "      <td>1</td>\n",
       "      <td>3</td>\n",
       "      <td>5</td>\n",
       "    </tr>\n",
       "    <tr>\n",
       "      <th>1</th>\n",
       "      <td>2</td>\n",
       "      <td>4</td>\n",
       "      <td>6</td>\n",
       "    </tr>\n",
       "  </tbody>\n",
       "</table>\n",
       "</div>"
      ],
      "text/plain": [
       "   x  y  z\n",
       "0  1  3  5\n",
       "1  2  4  6"
      ]
     },
     "execution_count": 45,
     "metadata": {},
     "output_type": "execute_result"
    }
   ],
   "source": [
    "dfangka = pd.DataFrame({'x':[1,2], 'y':[3,4], 'z':[5,6]})\n",
    "dfangka"
   ]
  },
  {
   "cell_type": "code",
   "execution_count": 46,
   "id": "2f4e832d",
   "metadata": {},
   "outputs": [
    {
     "data": {
      "text/html": [
       "<div>\n",
       "<style scoped>\n",
       "    .dataframe tbody tr th:only-of-type {\n",
       "        vertical-align: middle;\n",
       "    }\n",
       "\n",
       "    .dataframe tbody tr th {\n",
       "        vertical-align: top;\n",
       "    }\n",
       "\n",
       "    .dataframe thead th {\n",
       "        text-align: right;\n",
       "    }\n",
       "</style>\n",
       "<table border=\"1\" class=\"dataframe\">\n",
       "  <thead>\n",
       "    <tr style=\"text-align: right;\">\n",
       "      <th></th>\n",
       "      <th>x</th>\n",
       "      <th>y</th>\n",
       "      <th>z</th>\n",
       "    </tr>\n",
       "  </thead>\n",
       "  <tbody>\n",
       "    <tr>\n",
       "      <th>0</th>\n",
       "      <td>1</td>\n",
       "      <td>9</td>\n",
       "      <td>25</td>\n",
       "    </tr>\n",
       "    <tr>\n",
       "      <th>1</th>\n",
       "      <td>4</td>\n",
       "      <td>16</td>\n",
       "      <td>36</td>\n",
       "    </tr>\n",
       "  </tbody>\n",
       "</table>\n",
       "</div>"
      ],
      "text/plain": [
       "   x   y   z\n",
       "0  1   9  25\n",
       "1  4  16  36"
      ]
     },
     "execution_count": 46,
     "metadata": {},
     "output_type": "execute_result"
    }
   ],
   "source": [
    "def square(x):\n",
    "    return x * x\n",
    "\n",
    "dfsquare = dfangka.apply(square)\n",
    "dfsquare"
   ]
  },
  {
   "cell_type": "code",
   "execution_count": null,
   "id": "2fd01d5a",
   "metadata": {},
   "outputs": [],
   "source": [
    "pip install requests"
   ]
  },
  {
   "cell_type": "code",
   "execution_count": null,
   "id": "01cd0571",
   "metadata": {},
   "outputs": [],
   "source": [
    "import requests"
   ]
  },
  {
   "cell_type": "code",
   "execution_count": null,
   "id": "de863db0",
   "metadata": {},
   "outputs": [],
   "source": [
    "import dtale"
   ]
  }
 ],
 "metadata": {
  "kernelspec": {
   "display_name": "Python 3 (ipykernel)",
   "language": "python",
   "name": "python3"
  },
  "language_info": {
   "codemirror_mode": {
    "name": "ipython",
    "version": 3
   },
   "file_extension": ".py",
   "mimetype": "text/x-python",
   "name": "python",
   "nbconvert_exporter": "python",
   "pygments_lexer": "ipython3",
   "version": "3.9.4"
  },
  "toc": {
   "base_numbering": 1,
   "nav_menu": {},
   "number_sections": true,
   "sideBar": true,
   "skip_h1_title": false,
   "title_cell": "Table of Contents",
   "title_sidebar": "Contents",
   "toc_cell": false,
   "toc_position": {},
   "toc_section_display": true,
   "toc_window_display": false
  }
 },
 "nbformat": 4,
 "nbformat_minor": 5
}
